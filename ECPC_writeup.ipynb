{
 "cells": [
  {
   "cell_type": "markdown",
   "id": "e436bbd7",
   "metadata": {},
   "source": [
    "# ECPC\n",
    "\n",
    "This was a Crypto challenge from Day 2 of the Black Hat MEA CTF Finals, written by Polymero. The challenge file can be found [here](ecpc.py), but I will also describe a high-level overview of the challenge here.\n",
    "\n",
    "The setup is [ECDSA](https://en.wikipedia.org/wiki/Elliptic_Curve_Digital_Signature_Algorithm) on [Curve25519](https://en.wikipedia.org/wiki/Curve25519), which has the following parameters:\n",
    "- The curve $E$ is $y^2 = x^3+486662x^2+x$ on the field $\\textrm{GF}(p)$ with $p=2^{255}-19$.\n",
    "- The base point $G$ has $G_x=9$. This generates a cyclic subgroup of prime order $n \\approx \\frac{p}{8}$.\n",
    "- A private key $d$ is randomly generated, but the public key $Q=dG$ is never revealed to us.\n",
    "- The hash function is $h(m) = \\textrm{sha256}(Q\\|m)$, which depends on the unknown parameter $Q$.\n",
    "- To sign a message $m$, a random $k$ is generated and the signature is $(r,s) = \\left( (kG)_x \\bmod{n}, k^{-1}(h+rd) \\bmod{n} \\right)$.\n",
    "\n",
    "Then the challenge is basically as follows:\n",
    "- We are given the hash of the empty string, i.e. $h_0 := \\textrm{sha256}(Q)$. This is called the Connection ID. We are not given $Q$ itself.\n",
    "- The flag is represented as a stream of bits, and then for each bit:\n",
    "    - If the bit is set, we are given a random signature $(r, s)$ of the message $m=1$.\n",
    "    - If the bit is unset, we are given a random element of $\\mathbb{Z}_n^2$.\n",
    "- We have a signature oracle which can spit out a valid signature $(r, s)$ for any message $m$ that we give it.\n",
    "- The job is to recover the flag, i.e. by distinguishing the valid signatures of $m=1$ from the random pairs.\n",
    "\n",
    "Or at least, that was the original challenge, which we will call Level 1. Part of the purpose of this write-up is to keep adding levels to make it increasingly difficult but still solvable.\n",
    "\n",
    "We begin by importing the usual modules, and just defining a bunch of useful helper functions."
   ]
  },
  {
   "cell_type": "code",
   "execution_count": 1,
   "id": "9f1e942b",
   "metadata": {},
   "outputs": [],
   "source": [
    "from pwn import *\n",
    "from sage.all import *\n",
    "from ast import literal_eval\n",
    "from Crypto.Util.number import long_to_bytes, bytes_to_long\n",
    "from hashlib import sha256\n",
    "import base64\n",
    "context.log_level = 'error'\n",
    "\n",
    "p = 2**255 - 19\n",
    "E = EllipticCurve(GF(p), [0, 486662, 0, 1, 0])\n",
    "n = 7237005577332262213973186563042994240857116359379907606001950938285454250989\n",
    "G = -E.lift_x(Integer(9))\n",
    "\n",
    "def create_process():\n",
    "    return process(['python', 'ecpc.py'])\n",
    "\n",
    "def get_connection_id(sh):\n",
    "    sh.readuntil(b'ID = ')\n",
    "    return int(sh.readline(False))\n",
    "\n",
    "# In the original challenge, the (r, s) pairs are given in base64\n",
    "def get_rs_pairs(sh):\n",
    "    sh.readuntil(b'Flag = ')\n",
    "    line = sh.readline(False)\n",
    "    assert len(line) % 43 == 0\n",
    "    values = [bytes_to_long(base64.urlsafe_b64decode(line[i:i+43]+b'=')) for i in range(0, len(line), 43)]\n",
    "    return [(values[i], values[i+1]) for i in range(0, len(values), 2)]\n",
    "\n",
    "def get_signature(sh, data):\n",
    "    sh.sendline(data.hex().encode())\n",
    "    sh.readuntil(b's) = ')\n",
    "    return literal_eval(sh.readline(False).decode())\n",
    "\n",
    "# In the original challenge, the point Q is encoded as the following string\n",
    "def get_hash(Q, m=b''):\n",
    "    z = f'Point ({Q[0]}, {Q[1]}) on Curve 25519'\n",
    "    return bytes_to_long(sha256(z.encode() + m).digest())"
   ]
  },
  {
   "cell_type": "markdown",
   "id": "f672b35a",
   "metadata": {},
   "source": [
    "## Level 1: The original challenge\n",
    "\n",
    "This is basically a warm-up exercise. Since we can sign the empty string, for which we already know the hash, this gives us a signature\n",
    "\n",
    "$$(r,s) = \\left( (kG)_x \\bmod{n}, k^{-1}(h_0+rd) \\bmod{n} \\right),$$\n",
    "\n",
    "and we can rearrange this to get\n",
    "\n",
    "$$\\left( s^{-1}(h_0 G + r Q)\\right)_x \\bmod{n} = r.$$\n",
    "\n",
    "Or equivalently,\n",
    "\n",
    "$$h_0 G + r Q = sP \\textrm{ for some $P$ satisfying $P_x \\bmod{n} = r$.}$$\n",
    "\n",
    "We already know $h_0$, $G$, $r$, and $s$. We don't know $P$ outright, but it turns out there are really only up to 16 possibilities for P:\n",
    "\n",
    "$$P \\in \\textrm{lifts}(r) := \\left\\{ P \\in E : P_x \\bmod{n} = r \\right\\}$$\n",
    "\n",
    "which we can enumerate by lifting all possible values of $x$ which are congruent to $r \\pmod{n}$.\n",
    "\n",
    "Essentially we are done, since we can just test all possible $Q = r^{-1} (s P - h_0 G)$ until we find the one that matches our Connection ID. Once we have $Q$ we can generate the hash of any message, in particular the one corresponding to $m=1$, so that it becomes trivial to check for a valid signature."
   ]
  },
  {
   "cell_type": "code",
   "execution_count": 2,
   "id": "03418a51",
   "metadata": {},
   "outputs": [],
   "source": [
    "def f(P):\n",
    "    return int(P[0]) % n\n",
    "\n",
    "def lifts(r):\n",
    "    return [P for x in range(r, p, n) for P in E.lift_x(Integer(x), True)]"
   ]
  },
  {
   "cell_type": "code",
   "execution_count": 3,
   "id": "b26f5c90",
   "metadata": {},
   "outputs": [
    {
     "name": "stdout",
     "output_type": "stream",
     "text": [
      "Q = (41119926527203953096141857241850528609570113026221016510499019193864343849405 : 21528923670270134553100840596428476217908560325371257203457139871004876615706 : 1)\n",
      "b'flag{spl4t_th3m_bugs}'\n"
     ]
    }
   ],
   "source": [
    "with create_process() as sh:\n",
    "    h0 = get_connection_id(sh)\n",
    "    rs_pairs = get_rs_pairs(sh)\n",
    "    r, s = get_signature(sh, b'')\n",
    "\n",
    "Qs = [(s * P - h0 * G) * pow(r, -1, n) for P in lifts(r)]\n",
    "Q = next(Q for Q in Qs if get_hash(Q) == h0)\n",
    "print(f'{Q = }')\n",
    "h1 = get_hash(Q, b'1')\n",
    "result = unbits(f((h1 * G + r * Q) * pow(s, -1, n)) == r for r, s in rs_pairs)\n",
    "print(result)"
   ]
  },
  {
   "cell_type": "markdown",
   "id": "42e196d6",
   "metadata": {},
   "source": [
    "## Level 2: Level 1 + No empty input\n",
    "\n",
    "It turns out that the above solution was unintended, and that we were not meant to be able to submit the empty message. Oh well, we can still use a [length extension attack](https://en.wikipedia.org/wiki/Length_extension_attack) on SHA-256 to obtain a known hash.\n",
    "\n",
    "What this means is that we can craft a special message $M$ such that we can compute $\\textrm{sha256}(Q\\|M)$ only from the value of $\\textrm{sha256}(Q)$ and the length of $Q$. Roughly speaking, this message $M$ is just the padding of the original message. From local testing, we note that with high probability, the string representation of $Q$ will have length 179 or 178 (or less commonly 177). For simplicity we just assume it has length 179, and simply retry if it fails.\n",
    "\n",
    "Once we have this known hash $h' = h(M)$, we can compute $Q$ as in Level 1 and proceed similarly."
   ]
  },
  {
   "cell_type": "code",
   "execution_count": 4,
   "id": "112d73d4",
   "metadata": {},
   "outputs": [],
   "source": [
    "def sha256extend(prev_hash, length):\n",
    "    assert len(prev_hash) == 32\n",
    "    hs = [int.from_bytes(prev_hash[i:i+4], 'big') for i in range(0, 32, 4)]\n",
    "    extra_block = b'\\x80' + bytes(55) + ((8 * length + 576) & -512).to_bytes(8, 'big')\n",
    "\n",
    "    k = [int(p**(1/3)%1*2**32) for p in range(2,312) if not [1 for x in range(2,p) if p%x==0]]\n",
    "    w = [int.from_bytes(extra_block[i:i+4], 'big') for i in range(0, len(extra_block), 4)]\n",
    "\n",
    "    rrot = lambda x, n: x >> n | x << (32 - n)\n",
    "    for i in range(48):\n",
    "        s0 = rrot(w[i + 1], 7) ^ rrot(w[i + 1], 18) ^ (w[i + 1] >> 3)\n",
    "        s1 = rrot(w[i + 14], 17) ^ rrot(w[i + 14], 19) ^ (w[i + 14] >> 10)\n",
    "        w.append((w[i] + w[i+9] + s0 + s1) % 2**32)\n",
    "\n",
    "    a,b,c,d,e,f,g,h=hs\n",
    "    for i in range(64):\n",
    "        s0 = rrot(a, 2) ^ rrot(a, 13) ^ rrot(a, 22)\n",
    "        maj = (a & b) ^ (a & c) ^ (b & c)\n",
    "        t2 = s0 + maj\n",
    "        s1 = rrot(e, 6) ^ rrot(e, 11) ^ rrot(e, 25)\n",
    "        ch = (e & f) ^ (~e & g)\n",
    "        t1 = h + s1 + ch + k[i] + w[i]\n",
    "        a,b,c,d,e,f,g,h = (t1+t2)%2**32,a,b,c,(d+t1)%2**32,e,f,g\n",
    "\n",
    "    hs = [(x+y)%2**32 for x,y in zip(hs, [a,b,c,d,e,f,g,h])]\n",
    "    return b'\\x80' + bytes((55 - length) % 64) + (8 * length).to_bytes(8, 'big'), b''.join(x.to_bytes(4, 'big') for x in hs)"
   ]
  },
  {
   "cell_type": "code",
   "execution_count": 5,
   "id": "dfc6424e",
   "metadata": {},
   "outputs": [
    {
     "name": "stdout",
     "output_type": "stream",
     "text": [
      "Q = (26069349793998640802015468700598441466386357307181202119782485962808041289951 : 28004835041040223710951188044377440044233863632000018265844173162216422297837 : 1)\n",
      "b'flag{spl4t_th3m_bugs}'\n"
     ]
    }
   ],
   "source": [
    "with create_process() as sh:\n",
    "    h0 = get_connection_id(sh)\n",
    "    ext = sha256extend(long_to_bytes(h0), 179) # might be < 179, rerun if fail\n",
    "    m, h0_ext = ext[0], bytes_to_long(ext[1])\n",
    "    rs_pairs = get_rs_pairs(sh)\n",
    "    r, s = get_signature(sh, m)\n",
    "\n",
    "Qs = [(s * P - h0_ext * G) * pow(r, -1, n) for P in lifts(r)]\n",
    "Q = next(Q for Q in Qs if get_hash(Q) == h0)\n",
    "print(f'{Q = }')\n",
    "h1 = get_hash(Q, b'1')\n",
    "result = unbits(f((h1 * G + r * Q) * pow(s, -1, n)) == r for r, s in rs_pairs)\n",
    "print(result)"
   ]
  },
  {
   "cell_type": "markdown",
   "id": "221873b1",
   "metadata": {},
   "source": [
    "## Level 3: Level 2 + No input at all\n",
    "\n",
    "Upon further reflection, why should we need to know $h$ at all to solve for $Q$? The only hash we are really interested in at the end is $h_1$ (i.e. hash of `b'1'`), and even then we are content to just know the value of $h_1 G$, which we will just call $H$.\n",
    "\n",
    "What this means is that we will use the given $(r, s)$ pairs, since we know that many of them have been hashed against $h_1$. Our equation from earlier then simply becomes\n",
    "\n",
    "$$H + rQ = sP.$$\n",
    "\n",
    "And if we have two such pairs $(r_1, s_1)$ and $(r_2, s_2)$, then since $H$ is fixed, we can solve for $Q$ by subtracting the two equations:\n",
    "\n",
    "$$Q = \\frac{s_1 P_1 - s_2 P_2}{r_1 - r_2}.$$\n",
    "\n",
    "This gives us up to 256 different values of $Q$, but as before we can just test for the correct one by comparing against the hash.\n",
    "\n",
    "What we do need to know then is the position of the 1 bits, which we know from the structure of the flag, i.e. it begins with either 'F' or 'f' (so the bits in positions 1, 5, and 6 are set)."
   ]
  },
  {
   "cell_type": "code",
   "execution_count": 6,
   "id": "bf0f00de",
   "metadata": {},
   "outputs": [
    {
     "name": "stdout",
     "output_type": "stream",
     "text": [
      "Q = (26433301926690947870549036439467418456044102195167929779743835436557044585841 : 1048587294329967287535507047458533751328655839839745104360659757795803841561 : 1)\n",
      "b'flag{spl4t_th3m_bugs}'\n"
     ]
    }
   ],
   "source": [
    "with create_process() as sh:\n",
    "    h0 = get_connection_id(sh)\n",
    "    rs_pairs = get_rs_pairs(sh)\n",
    "\n",
    "r1, s1 = rs_pairs[1]\n",
    "r2, s2 = rs_pairs[5]\n",
    "\n",
    "Qs = [(s1 * P1 - s2 * P2) * pow(r1 - r2, -1, n) for P1 in lifts(r1) for P2 in lifts(r2)]\n",
    "Q = next(Q for Q in Qs if get_hash(Q) == h0)\n",
    "print(f'{Q = }')\n",
    "h1 = get_hash(Q, b'1')\n",
    "result = unbits(f((h1 * G + r * Q) * pow(s, -1, n)) == r for r, s in rs_pairs)\n",
    "print(result)"
   ]
  },
  {
   "cell_type": "markdown",
   "id": "0c73f58e",
   "metadata": {},
   "source": [
    "## Level 4: Level 3 + No connection ID\n",
    "\n",
    "This is actually not significantly harder. Instead of comparing against the hash $h_0$, we can just check whether $Q$ satisfies\n",
    "\n",
    "$$\\left( s^{-1} \\left(h(Q\\|1)G+rQ \\right) \\right)_x \\bmod{n} = r$$\n",
    "\n",
    "for a valid signature pair $(r, s)$."
   ]
  },
  {
   "cell_type": "code",
   "execution_count": 7,
   "id": "8d0eb855",
   "metadata": {},
   "outputs": [
    {
     "name": "stdout",
     "output_type": "stream",
     "text": [
      "Q = (10643219452687178986054127809507943543171709038278342124630545704379849158439 : 28775439047321395735000262278988580175502235090493808426765938559191385486561 : 1)\n",
      "b'flag{spl4t_th3m_bugs}'\n"
     ]
    }
   ],
   "source": [
    "with create_process() as sh:\n",
    "    rs_pairs = get_rs_pairs(sh)\n",
    "    \n",
    "r1, s1 = rs_pairs[1]\n",
    "r2, s2 = rs_pairs[5]\n",
    "\n",
    "Qs = [(s1 * P1 - s2 * P2) * pow(r1 - r2, -1, n) for P1 in lifts(r1) for P2 in lifts(r2)]\n",
    "Q = next(Q for Q in Qs if f((get_hash(Q, b'1') * G + r1 * Q) * pow(s1, -1, n)) == r1)\n",
    "print(f'{Q = }')\n",
    "h1 = get_hash(Q, b'1')\n",
    "result = unbits(f((h1 * G + r * Q) * pow(s, -1, n)) == r for r, s in rs_pairs)\n",
    "print(result)"
   ]
  },
  {
   "cell_type": "markdown",
   "id": "9cd40a54",
   "metadata": {},
   "source": [
    "## Level 5: Level 4 + No hash information\n",
    "\n",
    "One common pattern in Levels 1-4 is that we have used the hash in some way, to either verify $Q$ or to construct $h_1$ from $Q$. But what if the hash was replaced with a 100% black box?\n",
    "\n",
    "We can use the same pair of simultaneous equations as before, but instead of solving for just $Q$, we solve for the pair $(H, Q)$ and then test it against a third point. In this case we actually have two possible solutions, since $(-H, -Q)$ also satisfies the equation. We have no way of knowing which pair is the \"correct\" one, but it doesn't matter since they are equivalent for the purpose of signature verification."
   ]
  },
  {
   "cell_type": "code",
   "execution_count": 8,
   "id": "da8b9401",
   "metadata": {},
   "outputs": [
    {
     "name": "stdout",
     "output_type": "stream",
     "text": [
      "Q = (19198444554718211454190171853651619997653418802152490436973033663284823199962 : 2897881308436666184363894451494927572239787798192449402402656921360772471327 : 1)\n",
      "H = (40451718790325014625516898333866677362697118181613017113182071195725798237555 : 7261194096238398785555382782844097659873664766801798753810175272918065773485 : 1)\n",
      "b'flag{spl4t_th3m_bugs}'\n"
     ]
    }
   ],
   "source": [
    "with create_process() as sh:\n",
    "    rs_pairs = get_rs_pairs(sh)\n",
    "    \n",
    "r1, s1 = rs_pairs[1]\n",
    "r2, s2 = rs_pairs[5]\n",
    "r3, s3 = rs_pairs[6]\n",
    "\n",
    "def make_HQ_pairs(P, Q, r, s):\n",
    "    H = s * P - r * Q\n",
    "    return H, Q\n",
    "\n",
    "HQs = [make_HQ_pairs(P1, (s1 * P1 - s2 * P2) * pow(r1 - r2, -1, n), r1, s1) for P1 in lifts(r1) for P2 in lifts(r2)]\n",
    "H, Q = next((H, Q) for H, Q in HQs if f((H + r3 *Q) * pow(s3, -1, n)) == r3)\n",
    "print(f'{Q = }')\n",
    "print(f'{H = }')\n",
    "result = unbits(f((H + r * Q) * pow(s, -1, n)) == r for r, s in rs_pairs)\n",
    "print(result)"
   ]
  },
  {
   "cell_type": "markdown",
   "id": "9a3343fd",
   "metadata": {},
   "source": [
    "## Level 6: Level 5 + No $s$ provided\n",
    "\n",
    "Surprise! This turns out to be the easiest of the lot. With no $s$ provided, we cannot actually verify if a signature is valid, and are reduced to distinguishing whether a given $r$ is the possible x-coordinate (mod $n$) of some $kG$, or if it's merely random.\n",
    "\n",
    "Some quick handwavy maths shows that roughly half of all values of $x$ can be lifted to $E$. But we have a cofactor of 8 here which means that our given value of $r$ can be unprojected to 8 values of $x$, which you would think gives it a $\\frac{1}{256}$ chance of getting identified as a random value.\n",
    "\n",
    "However, the cofactor is a double-edged sword here, as the full curve $E$ actually has $8n$ points, so there's only a $\\frac{1}{8}$ probability that a given $x$ is in fact on our order-$n$ subgroup. This means that the set of all possible x-coordinates of $kG$ only covers roughly $\\frac{1}{16}$ of $\\textrm{GF}(p)$.\n",
    "\n",
    "This also means that the probability that a random $r$ can be identified as being random is $\\left(1-\\frac{1}{16}\\right)^8 \\approx 59.7\\%$, and you can test this by simply lifting all possible $x$ values and seeing if any of them satisfy $nP=0$.\n",
    "\n",
    "This gives us a probabilistic way to recover out flag:\n",
    "- Start with the bitstream consisting of all 1s.\n",
    "- Run the process, which will turn roughly 60\\% of the actual 0s into a 0 on our side.\n",
    "- Run a second time, so that now roughly 84\\% of the actual 0s have become a 0 on our side.\n",
    "- If we run it 10 times, this increases to 99.99\\%.\n",
    "- If we run it 20 times, this increases to 99.999999\\%.\n",
    "\n",
    "So depending on your probabilistic tolerance, running 10 times in pretty good for a regular-sized flag, but 20 times should cover just about every case."
   ]
  },
  {
   "cell_type": "code",
   "execution_count": 9,
   "id": "dc81ae7c",
   "metadata": {},
   "outputs": [
    {
     "name": "stdout",
     "output_type": "stream",
     "text": [
      "b'f\\xfc\\xfd\\xe7\\x7f\\xff\\xf6n5\\xf7\\xffuy{\\xef\\xdf\\xf3}o{}'\n",
      "b'f|qg{\\xf3tl5w_uhsm\\xdf\\xe2}gs}'\n",
      "b'flag{\\xf3pl4v_thsm\\xdfbugs}'\n",
      "b'flag{spl4t_th3m\\xdfbugs}'\n",
      "b'flag{spl4t_th3m_bugs}'\n",
      "b'flag{spl4t_th3m_bugs}'\n",
      "b'flag{spl4t_th3m_bugs}'\n",
      "b'flag{spl4t_th3m_bugs}'\n",
      "b'flag{spl4t_th3m_bugs}'\n",
      "b'flag{spl4t_th3m_bugs}'\n"
     ]
    }
   ],
   "source": [
    "result = -1\n",
    "for _ in range(10): # for a longer flag maybe increase it to 20\n",
    "    \n",
    "    with create_process() as sh:\n",
    "        rs = [r for r,s in get_rs_pairs(sh)]\n",
    "    \n",
    "    valids = [any(n * P == 0 for P in lifts(r)) for r in rs]\n",
    "    result &= bytes_to_long(unbits(valids))\n",
    "    print(long_to_bytes(result))"
   ]
  }
 ],
 "metadata": {
  "kernelspec": {
   "display_name": "Python 3 (ipykernel)",
   "language": "python",
   "name": "python3"
  },
  "language_info": {
   "codemirror_mode": {
    "name": "ipython",
    "version": 3
   },
   "file_extension": ".py",
   "mimetype": "text/x-python",
   "name": "python",
   "nbconvert_exporter": "python",
   "pygments_lexer": "ipython3",
   "version": "3.10.6"
  }
 },
 "nbformat": 4,
 "nbformat_minor": 5
}
